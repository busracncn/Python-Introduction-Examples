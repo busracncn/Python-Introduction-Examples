{
 "cells": [
  {
   "cell_type": "markdown",
   "id": "c3cf6df7",
   "metadata": {},
   "source": [
    "# **Tuples**"
   ]
  },
  {
   "cell_type": "code",
   "execution_count": 14,
   "id": "3a167204",
   "metadata": {},
   "outputs": [],
   "source": [
    "tuple = (1,2,3,4,5,6,7,8)"
   ]
  },
  {
   "cell_type": "code",
   "execution_count": 15,
   "id": "e078ad26",
   "metadata": {},
   "outputs": [
    {
     "data": {
      "text/plain": [
       "(7, 8)"
      ]
     },
     "execution_count": 15,
     "metadata": {},
     "output_type": "execute_result"
    }
   ],
   "source": [
    "tuple[-2:]"
   ]
  },
  {
   "cell_type": "code",
   "execution_count": 16,
   "id": "38b81d3a",
   "metadata": {},
   "outputs": [
    {
     "data": {
      "text/plain": [
       "(1, 3, 5, 7)"
      ]
     },
     "execution_count": 16,
     "metadata": {},
     "output_type": "execute_result"
    }
   ],
   "source": [
    "tuple[::2]"
   ]
  },
  {
   "cell_type": "code",
   "execution_count": 18,
   "id": "cd214deb",
   "metadata": {},
   "outputs": [
    {
     "data": {
      "text/plain": [
       "(5, 6, 7, 8)"
      ]
     },
     "execution_count": 18,
     "metadata": {},
     "output_type": "execute_result"
    }
   ],
   "source": [
    "tuple[4:]"
   ]
  },
  {
   "cell_type": "code",
   "execution_count": 20,
   "id": "b89895b2",
   "metadata": {},
   "outputs": [
    {
     "data": {
      "text/plain": [
       "(5, 7)"
      ]
     },
     "execution_count": 20,
     "metadata": {},
     "output_type": "execute_result"
    }
   ],
   "source": [
    "tuple[4::2]"
   ]
  },
  {
   "cell_type": "code",
   "execution_count": 21,
   "id": "581dc32d",
   "metadata": {},
   "outputs": [
    {
     "data": {
      "text/plain": [
       "(1, 3, 5, 7)"
      ]
     },
     "execution_count": 21,
     "metadata": {},
     "output_type": "execute_result"
    }
   ],
   "source": [
    "tuple[:8:2]"
   ]
  },
  {
   "cell_type": "markdown",
   "id": "6b9cbfe5",
   "metadata": {},
   "source": [
    "#### ATTENTION\n",
    "Elements can not changed in tuples because tuples are immutable."
   ]
  },
  {
   "cell_type": "code",
   "execution_count": 23,
   "id": "8f80e861",
   "metadata": {},
   "outputs": [],
   "source": [
    "tuple1 = (3,6,13,7,2,1,5,7)"
   ]
  },
  {
   "cell_type": "code",
   "execution_count": 26,
   "id": "a902336f",
   "metadata": {},
   "outputs": [
    {
     "data": {
      "text/plain": [
       "[1, 2, 3, 5, 6, 7, 7, 13]"
      ]
     },
     "execution_count": 26,
     "metadata": {},
     "output_type": "execute_result"
    }
   ],
   "source": [
    "sorted(tuple1)"
   ]
  },
  {
   "cell_type": "markdown",
   "id": "cdf52f12",
   "metadata": {},
   "source": [
    "# Lists"
   ]
  },
  {
   "cell_type": "code",
   "execution_count": 45,
   "id": "37be47ee",
   "metadata": {},
   "outputs": [],
   "source": [
    "list = [1,2,6,75,4,3,0]"
   ]
  },
  {
   "cell_type": "markdown",
   "id": "b38a9953",
   "metadata": {},
   "source": [
    "### Differences between extend and append functions"
   ]
  },
  {
   "cell_type": "code",
   "execution_count": 46,
   "id": "cc5dc26a",
   "metadata": {},
   "outputs": [
    {
     "data": {
      "text/plain": [
       "[1, 2, 6, 75, 4, 3, 0, ['love', 'friend']]"
      ]
     },
     "execution_count": 46,
     "metadata": {},
     "output_type": "execute_result"
    }
   ],
   "source": [
    "list.append([\"love\", \"friend\"])\n",
    "list"
   ]
  },
  {
   "cell_type": "code",
   "execution_count": 47,
   "id": "33585fca",
   "metadata": {},
   "outputs": [
    {
     "data": {
      "text/plain": [
       "[1, 2, 6, 75, 4, 3, 0, ['love', 'friend'], 'pc', 'mouse']"
      ]
     },
     "execution_count": 47,
     "metadata": {},
     "output_type": "execute_result"
    }
   ],
   "source": [
    "list.extend([\"pc\", \"mouse\"])\n",
    "list"
   ]
  },
  {
   "cell_type": "markdown",
   "id": "37d324c6",
   "metadata": {},
   "source": [
    "### Attention \n",
    "Lists are mutable, we can change them"
   ]
  },
  {
   "cell_type": "code",
   "execution_count": 48,
   "id": "bef80c1b",
   "metadata": {},
   "outputs": [
    {
     "data": {
      "text/plain": [
       "[2, 6, 75, 4, 3, 0, ['love', 'friend'], 'pc', 'mouse']"
      ]
     },
     "execution_count": 48,
     "metadata": {},
     "output_type": "execute_result"
    }
   ],
   "source": [
    "del(list[0]) #it will delete the elements that has index 0\n",
    "list"
   ]
  },
  {
   "cell_type": "code",
   "execution_count": 50,
   "id": "6c0255f2",
   "metadata": {},
   "outputs": [
    {
     "data": {
      "text/plain": [
       "['hard', 'rock']"
      ]
     },
     "execution_count": 50,
     "metadata": {},
     "output_type": "execute_result"
    }
   ],
   "source": [
    "\"hard rock\".split() #split(\",\")..."
   ]
  },
  {
   "cell_type": "markdown",
   "id": "2a37068a",
   "metadata": {},
   "source": [
    "### Copy of the list\n",
    "If we change somthing in list, B will not change."
   ]
  },
  {
   "cell_type": "code",
   "execution_count": 51,
   "id": "d7262830",
   "metadata": {},
   "outputs": [],
   "source": [
    "B = list[:]"
   ]
  },
  {
   "cell_type": "code",
   "execution_count": 52,
   "id": "c1dda0e8",
   "metadata": {},
   "outputs": [],
   "source": [
    "list[0] = \"new\""
   ]
  },
  {
   "cell_type": "code",
   "execution_count": 53,
   "id": "31ad2bb1",
   "metadata": {},
   "outputs": [
    {
     "data": {
      "text/plain": [
       "['new', 6, 75, 4, 3, 0, ['love', 'friend'], 'pc', 'mouse']"
      ]
     },
     "execution_count": 53,
     "metadata": {},
     "output_type": "execute_result"
    }
   ],
   "source": [
    "list"
   ]
  },
  {
   "cell_type": "code",
   "execution_count": 54,
   "id": "d9e5c1cf",
   "metadata": {},
   "outputs": [
    {
     "data": {
      "text/plain": [
       "[2, 6, 75, 4, 3, 0, ['love', 'friend'], 'pc', 'mouse']"
      ]
     },
     "execution_count": 54,
     "metadata": {},
     "output_type": "execute_result"
    }
   ],
   "source": [
    "B"
   ]
  },
  {
   "cell_type": "code",
   "execution_count": null,
   "id": "8b57de0a",
   "metadata": {},
   "outputs": [],
   "source": []
  }
 ],
 "metadata": {
  "kernelspec": {
   "display_name": "Python 3",
   "language": "python",
   "name": "python3"
  },
  "language_info": {
   "codemirror_mode": {
    "name": "ipython",
    "version": 3
   },
   "file_extension": ".py",
   "mimetype": "text/x-python",
   "name": "python",
   "nbconvert_exporter": "python",
   "pygments_lexer": "ipython3",
   "version": "3.8.8"
  }
 },
 "nbformat": 4,
 "nbformat_minor": 5
}
