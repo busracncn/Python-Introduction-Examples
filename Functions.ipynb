{
 "cells": [
  {
   "cell_type": "markdown",
   "id": "153b3f37",
   "metadata": {},
   "source": [
    "# Functions "
   ]
  },
  {
   "cell_type": "markdown",
   "id": "17b05749",
   "metadata": {},
   "source": [
    "Let's write a function which get input as a string and return it lowercase format"
   ]
  },
  {
   "cell_type": "code",
   "execution_count": 6,
   "id": "8de35d06",
   "metadata": {},
   "outputs": [],
   "source": [
    "def lower_case(word):\n",
    "    \"\"\"\n",
    "    covert the word to lower case (here is the documentation)\n",
    "    \"\"\"\n",
    "    lower_word = word.lower()\n",
    "    return lower_word"
   ]
  },
  {
   "cell_type": "code",
   "execution_count": 7,
   "id": "169e6330",
   "metadata": {},
   "outputs": [],
   "source": [
    "words = [\"LIFE\",\"Heart\",\"NaBeR\"]"
   ]
  },
  {
   "cell_type": "raw",
   "id": "01d0dafa",
   "metadata": {},
   "source": [
    "The function has no print command so, when we call the function there will be nothing in the console."
   ]
  },
  {
   "cell_type": "code",
   "execution_count": 8,
   "id": "4372bab4",
   "metadata": {},
   "outputs": [],
   "source": [
    "for word in words:\n",
    "    lower_case(word) #we called function"
   ]
  },
  {
   "cell_type": "markdown",
   "id": "2c43d9c3",
   "metadata": {},
   "source": [
    "But below, we used print() which is pre-defined function and we showed the results. "
   ]
  },
  {
   "cell_type": "code",
   "execution_count": 19,
   "id": "0a3184df",
   "metadata": {},
   "outputs": [
    {
     "name": "stdout",
     "output_type": "stream",
     "text": [
      "life\n",
      "heart\n",
      "naber\n"
     ]
    }
   ],
   "source": [
    "for word in words:\n",
    "    print(lower_case(word)) #we called function"
   ]
  },
  {
   "cell_type": "code",
   "execution_count": 14,
   "id": "3fa8dc73",
   "metadata": {},
   "outputs": [],
   "source": [
    "def convert_string(list):\n",
    "    str_list = []\n",
    "    for item in list:\n",
    "        item = str(item)\n",
    "        str_list.append(item)\n",
    "    print(str_list) "
   ]
  },
  {
   "cell_type": "code",
   "execution_count": 17,
   "id": "79a991b1",
   "metadata": {},
   "outputs": [
    {
     "name": "stdout",
     "output_type": "stream",
     "text": [
      "<class 'int'>\n",
      "['1', '2', '3', '4']\n",
      "<class 'int'>\n"
     ]
    }
   ],
   "source": [
    "numbers = [1,2,3,4]\n",
    "print(type(numbers[0]))\n",
    "convert_string(numbers)\n",
    "print(type(numbers[0]))"
   ]
  },
  {
   "cell_type": "code",
   "execution_count": 10,
   "id": "8be4ed13",
   "metadata": {},
   "outputs": [
    {
     "name": "stdout",
     "output_type": "stream",
     "text": [
      "Help on function lower_case in module __main__:\n",
      "\n",
      "lower_case(word)\n",
      "    covert the word to lower case (here is the documentation)\n",
      "\n"
     ]
    }
   ],
   "source": [
    "help(lower_case)"
   ]
  },
  {
   "cell_type": "markdown",
   "id": "66e3d7b3",
   "metadata": {},
   "source": [
    "We can use if, else in functions and we can use more than one return command."
   ]
  },
  {
   "cell_type": "code",
   "execution_count": 34,
   "id": "f115888b",
   "metadata": {},
   "outputs": [],
   "source": [
    "def fibonacci(n): # n is the index. For example, in fibonacci series \"2\" is the element which its index is 3. 0 1 1 2 3 5 ....\n",
    "    if n == 0 or n == 1:\n",
    "        return n\n",
    "    else:\n",
    "        return fibonacci(n-1) + fibonacci(n-2) "
   ]
  },
  {
   "cell_type": "code",
   "execution_count": 35,
   "id": "ac1173ec",
   "metadata": {},
   "outputs": [
    {
     "name": "stdout",
     "output_type": "stream",
     "text": [
      "2\n"
     ]
    }
   ],
   "source": [
    "print(fibonacci(3))"
   ]
  },
  {
   "cell_type": "markdown",
   "id": "c8f0dfc1",
   "metadata": {},
   "source": [
    "#### Global Variables"
   ]
  },
  {
   "cell_type": "code",
   "execution_count": 42,
   "id": "46f78328",
   "metadata": {},
   "outputs": [
    {
     "data": {
      "text/plain": [
       "10"
      ]
     },
     "execution_count": 42,
     "metadata": {},
     "output_type": "execute_result"
    }
   ],
   "source": [
    "def mul(x,y):\n",
    "    global x_  #there is an underscore\n",
    "    x = 5\n",
    "    return x*y\n",
    "\n",
    "mul(x,2)"
   ]
  },
  {
   "cell_type": "code",
   "execution_count": 43,
   "id": "bc580062",
   "metadata": {},
   "outputs": [
    {
     "data": {
      "text/plain": [
       "10"
      ]
     },
     "execution_count": 43,
     "metadata": {},
     "output_type": "execute_result"
    }
   ],
   "source": [
    "mul(4,2)"
   ]
  },
  {
   "cell_type": "markdown",
   "id": "db87e8a5",
   "metadata": {},
   "source": [
    "#### Default Values\n",
    "If you want use default parameter you should consider that the orders of parameters. First, you should write non-default parameters then, default parameters."
   ]
  },
  {
   "cell_type": "code",
   "execution_count": 62,
   "id": "548e85e2",
   "metadata": {},
   "outputs": [
    {
     "data": {
      "text/plain": [
       "50.0"
      ]
     },
     "execution_count": 62,
     "metadata": {},
     "output_type": "execute_result"
    }
   ],
   "source": [
    "def divide(y,x=100): \n",
    "    res = x / y\n",
    "    return res\n",
    "divide(2)"
   ]
  },
  {
   "cell_type": "markdown",
   "id": "9cb80fb5",
   "metadata": {},
   "source": [
    "##### We can declare a variable outside of the function and we can use it inside of the function or everywhere of the program bacause it is a global variable."
   ]
  },
  {
   "cell_type": "code",
   "execution_count": 4,
   "id": "c4415658",
   "metadata": {},
   "outputs": [
    {
     "data": {
      "text/plain": [
       "'Hello,  how are you?'"
      ]
     },
     "execution_count": 4,
     "metadata": {},
     "output_type": "execute_result"
    }
   ],
   "source": [
    "word = \"how are you?\"\n",
    "def function():\n",
    "    return \"Hello,  \" + word\n",
    "\n",
    "function()"
   ]
  },
  {
   "cell_type": "markdown",
   "id": "1bd49cc2",
   "metadata": {},
   "source": [
    "##### But if there is a same variable inside of the function which is called local variable, it has priority."
   ]
  },
  {
   "cell_type": "code",
   "execution_count": 8,
   "id": "e769776e",
   "metadata": {},
   "outputs": [
    {
     "data": {
      "text/plain": [
       "\"Hello, what's up?\""
      ]
     },
     "execution_count": 8,
     "metadata": {},
     "output_type": "execute_result"
    }
   ],
   "source": [
    "word = \"how are you?\"\n",
    "def function():\n",
    "    word = \"what's up?\"\n",
    "    return \"Hello, \" + word\n",
    "\n",
    "function()"
   ]
  },
  {
   "cell_type": "markdown",
   "id": "a777edc7",
   "metadata": {},
   "source": [
    "###### If we do not know the number of parameters we can use *args for packed all parameters in tuple."
   ]
  },
  {
   "cell_type": "code",
   "execution_count": 9,
   "id": "c45cf29c",
   "metadata": {},
   "outputs": [],
   "source": [
    "def total(*args):\n",
    "    return sum(args)"
   ]
  },
  {
   "cell_type": "code",
   "execution_count": 11,
   "id": "eb080bde",
   "metadata": {},
   "outputs": [
    {
     "data": {
      "text/plain": [
       "10"
      ]
     },
     "execution_count": 11,
     "metadata": {},
     "output_type": "execute_result"
    }
   ],
   "source": [
    "total(1,2,2,5)"
   ]
  },
  {
   "cell_type": "code",
   "execution_count": 12,
   "id": "4eb49282",
   "metadata": {},
   "outputs": [
    {
     "data": {
      "text/plain": [
       "5"
      ]
     },
     "execution_count": 12,
     "metadata": {},
     "output_type": "execute_result"
    }
   ],
   "source": [
    "total(2,3)"
   ]
  },
  {
   "cell_type": "code",
   "execution_count": 15,
   "id": "c27fc89c",
   "metadata": {},
   "outputs": [],
   "source": [
    "def total(*args):\n",
    "    return args"
   ]
  },
  {
   "cell_type": "code",
   "execution_count": 16,
   "id": "55e96bf2",
   "metadata": {},
   "outputs": [
    {
     "data": {
      "text/plain": [
       "(1, 2, 2, 5)"
      ]
     },
     "execution_count": 16,
     "metadata": {},
     "output_type": "execute_result"
    }
   ],
   "source": [
    "total(1,2,2,5)"
   ]
  },
  {
   "cell_type": "code",
   "execution_count": 17,
   "id": "d527c36c",
   "metadata": {},
   "outputs": [
    {
     "data": {
      "text/plain": [
       "tuple"
      ]
     },
     "execution_count": 17,
     "metadata": {},
     "output_type": "execute_result"
    }
   ],
   "source": [
    "type(total(1,2,2,5))"
   ]
  },
  {
   "cell_type": "markdown",
   "id": "128358c0",
   "metadata": {},
   "source": [
    "Also, we can packed all parameters in dicitonaries."
   ]
  },
  {
   "cell_type": "code",
   "execution_count": 22,
   "id": "01633e74",
   "metadata": {},
   "outputs": [],
   "source": [
    "def dictionaries(**args):\n",
    "    return args"
   ]
  },
  {
   "cell_type": "code",
   "execution_count": 26,
   "id": "1ecce46a",
   "metadata": {},
   "outputs": [
    {
     "data": {
      "text/plain": [
       "{'Age': 23, 'Name': 'Jane'}"
      ]
     },
     "execution_count": 26,
     "metadata": {},
     "output_type": "execute_result"
    }
   ],
   "source": [
    "dictionaries(Age = 23, Name = \"Jane\")"
   ]
  },
  {
   "cell_type": "code",
   "execution_count": 27,
   "id": "50a93345",
   "metadata": {},
   "outputs": [
    {
     "data": {
      "text/plain": [
       "dict"
      ]
     },
     "execution_count": 27,
     "metadata": {},
     "output_type": "execute_result"
    }
   ],
   "source": [
    "type(dictionaries(Age = 23, Name = \"Jane\"))"
   ]
  },
  {
   "cell_type": "markdown",
   "id": "75229213",
   "metadata": {},
   "source": [
    "#### There is not necessary always return command"
   ]
  },
  {
   "cell_type": "code",
   "execution_count": 45,
   "id": "eb533d17",
   "metadata": {},
   "outputs": [],
   "source": [
    "def add_function(list1,list2):\n",
    "    list1.append(list2)"
   ]
  },
  {
   "cell_type": "code",
   "execution_count": 46,
   "id": "7c597377",
   "metadata": {},
   "outputs": [],
   "source": [
    "list1 = [\"life\", \"is\"]\n",
    "list2 = [\"beautiful\"]\n",
    "add_function(list1,list2)"
   ]
  },
  {
   "cell_type": "code",
   "execution_count": 47,
   "id": "e4691b06",
   "metadata": {},
   "outputs": [
    {
     "data": {
      "text/plain": [
       "['life', 'is', ['beautiful']]"
      ]
     },
     "execution_count": 47,
     "metadata": {},
     "output_type": "execute_result"
    }
   ],
   "source": [
    "list1"
   ]
  }
 ],
 "metadata": {
  "kernelspec": {
   "display_name": "Python 3",
   "language": "python",
   "name": "python3"
  },
  "language_info": {
   "codemirror_mode": {
    "name": "ipython",
    "version": 3
   },
   "file_extension": ".py",
   "mimetype": "text/x-python",
   "name": "python",
   "nbconvert_exporter": "python",
   "pygments_lexer": "ipython3",
   "version": "3.8.8"
  }
 },
 "nbformat": 4,
 "nbformat_minor": 5
}
