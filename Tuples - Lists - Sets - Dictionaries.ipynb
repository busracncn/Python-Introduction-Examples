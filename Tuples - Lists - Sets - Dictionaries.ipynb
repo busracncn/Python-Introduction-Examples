{
 "cells": [
  {
   "cell_type": "markdown",
   "id": "c3cf6df7",
   "metadata": {},
   "source": [
    "# **Tuples**"
   ]
  },
  {
   "cell_type": "code",
   "execution_count": 12,
   "id": "3a167204",
   "metadata": {},
   "outputs": [],
   "source": [
    "tuple1 = (1,2,3,4,5,6,7,8)"
   ]
  },
  {
   "cell_type": "code",
   "execution_count": 13,
   "id": "e078ad26",
   "metadata": {},
   "outputs": [
    {
     "data": {
      "text/plain": [
       "(7, 8)"
      ]
     },
     "execution_count": 13,
     "metadata": {},
     "output_type": "execute_result"
    }
   ],
   "source": [
    "tuple1[-2:]"
   ]
  },
  {
   "cell_type": "code",
   "execution_count": 14,
   "id": "38b81d3a",
   "metadata": {},
   "outputs": [
    {
     "data": {
      "text/plain": [
       "(1, 3, 5, 7)"
      ]
     },
     "execution_count": 14,
     "metadata": {},
     "output_type": "execute_result"
    }
   ],
   "source": [
    "tuple1[::2]"
   ]
  },
  {
   "cell_type": "code",
   "execution_count": 15,
   "id": "cd214deb",
   "metadata": {},
   "outputs": [
    {
     "data": {
      "text/plain": [
       "(5, 6, 7, 8)"
      ]
     },
     "execution_count": 15,
     "metadata": {},
     "output_type": "execute_result"
    }
   ],
   "source": [
    "tuple1[4:]"
   ]
  },
  {
   "cell_type": "code",
   "execution_count": 16,
   "id": "b89895b2",
   "metadata": {
    "scrolled": true
   },
   "outputs": [
    {
     "data": {
      "text/plain": [
       "(5, 7)"
      ]
     },
     "execution_count": 16,
     "metadata": {},
     "output_type": "execute_result"
    }
   ],
   "source": [
    "tuple1[4::2]"
   ]
  },
  {
   "cell_type": "code",
   "execution_count": 17,
   "id": "581dc32d",
   "metadata": {},
   "outputs": [
    {
     "data": {
      "text/plain": [
       "(1, 3, 5, 7)"
      ]
     },
     "execution_count": 17,
     "metadata": {},
     "output_type": "execute_result"
    }
   ],
   "source": [
    "tuple1[:8:2]"
   ]
  },
  {
   "cell_type": "markdown",
   "id": "6b9cbfe5",
   "metadata": {},
   "source": [
    "#### ATTENTION\n",
    "Items can not changed in tuples because tuples are immutable. We can add item or we can't delete item."
   ]
  },
  {
   "cell_type": "code",
   "execution_count": 18,
   "id": "8f80e861",
   "metadata": {},
   "outputs": [],
   "source": [
    "tuple2 = (3,6,13,7,2,1,5,7)"
   ]
  },
  {
   "cell_type": "code",
   "execution_count": 19,
   "id": "a902336f",
   "metadata": {},
   "outputs": [
    {
     "data": {
      "text/plain": [
       "[1, 2, 3, 5, 6, 7, 7, 13]"
      ]
     },
     "execution_count": 19,
     "metadata": {},
     "output_type": "execute_result"
    }
   ],
   "source": [
    "sorted(tuple2)"
   ]
  },
  {
   "cell_type": "markdown",
   "id": "26bf904d",
   "metadata": {},
   "source": [
    "#### Adding an item to tuple"
   ]
  },
  {
   "cell_type": "code",
   "execution_count": 20,
   "id": "ea7361f5",
   "metadata": {},
   "outputs": [
    {
     "data": {
      "text/plain": [
       "(3, 6, 13, 7, 2, 1, 5, 7, 1, 2, 3, 4, 5, 6, 7, 8)"
      ]
     },
     "execution_count": 20,
     "metadata": {},
     "output_type": "execute_result"
    }
   ],
   "source": [
    "#Now, we will add tuple1 to tuple2.\n",
    "new_tuple = tuple2 + tuple1\n",
    "new_tuple"
   ]
  },
  {
   "cell_type": "code",
   "execution_count": 21,
   "id": "199aed3a",
   "metadata": {},
   "outputs": [
    {
     "data": {
      "text/plain": [
       "(1, 2, 3, 4, 5, 6, 7, 8, 3, 6, 13, 7, 2, 1, 5, 7)"
      ]
     },
     "execution_count": 21,
     "metadata": {},
     "output_type": "execute_result"
    }
   ],
   "source": [
    "tuple1 + tuple2 #the order that in here is important"
   ]
  },
  {
   "cell_type": "markdown",
   "id": "4f7e2fcb",
   "metadata": {},
   "source": [
    "### ATTENTION\n",
    "You can only concatenate tuple to tuple so, below code will not work."
   ]
  },
  {
   "cell_type": "code",
   "execution_count": 22,
   "id": "70f613e3",
   "metadata": {},
   "outputs": [
    {
     "ename": "TypeError",
     "evalue": "can only concatenate tuple (not \"str\") to tuple",
     "output_type": "error",
     "traceback": [
      "\u001b[1;31m---------------------------------------------------------------------------\u001b[0m",
      "\u001b[1;31mTypeError\u001b[0m                                 Traceback (most recent call last)",
      "\u001b[1;32m<ipython-input-22-6c9b22f9b89f>\u001b[0m in \u001b[0;36m<module>\u001b[1;34m\u001b[0m\n\u001b[1;32m----> 1\u001b[1;33m \u001b[0mnew_tuple\u001b[0m \u001b[1;33m+\u001b[0m \u001b[1;34m\"busra\"\u001b[0m\u001b[1;33m\u001b[0m\u001b[1;33m\u001b[0m\u001b[0m\n\u001b[0m",
      "\u001b[1;31mTypeError\u001b[0m: can only concatenate tuple (not \"str\") to tuple"
     ]
    }
   ],
   "source": [
    "new_tuple + \"busra\" "
   ]
  },
  {
   "cell_type": "markdown",
   "id": "cdf52f12",
   "metadata": {},
   "source": [
    "# Lists"
   ]
  },
  {
   "cell_type": "code",
   "execution_count": 23,
   "id": "37be47ee",
   "metadata": {},
   "outputs": [],
   "source": [
    "list1 = [1,2,6,75,4,3]"
   ]
  },
  {
   "cell_type": "markdown",
   "id": "b38a9953",
   "metadata": {},
   "source": [
    "### Differences between extend and append method"
   ]
  },
  {
   "cell_type": "code",
   "execution_count": 24,
   "id": "cc5dc26a",
   "metadata": {},
   "outputs": [
    {
     "data": {
      "text/plain": [
       "[1, 2, 6, 75, 4, 3, ['love', 'friend']]"
      ]
     },
     "execution_count": 24,
     "metadata": {},
     "output_type": "execute_result"
    }
   ],
   "source": [
    "list1.append([\"love\", \"friend\"])\n",
    "list1"
   ]
  },
  {
   "cell_type": "code",
   "execution_count": 25,
   "id": "33585fca",
   "metadata": {},
   "outputs": [
    {
     "data": {
      "text/plain": [
       "[1, 2, 6, 75, 4, 3, ['love', 'friend'], 'pc', 'mouse']"
      ]
     },
     "execution_count": 25,
     "metadata": {},
     "output_type": "execute_result"
    }
   ],
   "source": [
    "list1.extend([\"pc\", \"mouse\"])\n",
    "list1"
   ]
  },
  {
   "cell_type": "markdown",
   "id": "37d324c6",
   "metadata": {},
   "source": [
    "### ATTENTION\n",
    "Lists are mutable, we can change them"
   ]
  },
  {
   "cell_type": "code",
   "execution_count": 26,
   "id": "bef80c1b",
   "metadata": {},
   "outputs": [
    {
     "data": {
      "text/plain": [
       "[2, 6, 75, 4, 3, ['love', 'friend'], 'pc', 'mouse']"
      ]
     },
     "execution_count": 26,
     "metadata": {},
     "output_type": "execute_result"
    }
   ],
   "source": [
    "del(list1[0]) #it will delete the elements that has index 0\n",
    "list1"
   ]
  },
  {
   "cell_type": "code",
   "execution_count": 27,
   "id": "6c0255f2",
   "metadata": {},
   "outputs": [
    {
     "data": {
      "text/plain": [
       "['hard', 'rock']"
      ]
     },
     "execution_count": 27,
     "metadata": {},
     "output_type": "execute_result"
    }
   ],
   "source": [
    "\"hard rock\".split() #split(\",\")..."
   ]
  },
  {
   "cell_type": "markdown",
   "id": "2a37068a",
   "metadata": {},
   "source": [
    "### Copy of the list\n",
    "If we change something in list, B will not change."
   ]
  },
  {
   "cell_type": "code",
   "execution_count": 28,
   "id": "d7262830",
   "metadata": {},
   "outputs": [],
   "source": [
    "B = list1[:] #"
   ]
  },
  {
   "cell_type": "code",
   "execution_count": 29,
   "id": "c1dda0e8",
   "metadata": {},
   "outputs": [],
   "source": [
    "list1[0] = \"new\""
   ]
  },
  {
   "cell_type": "code",
   "execution_count": 30,
   "id": "31ad2bb1",
   "metadata": {},
   "outputs": [
    {
     "data": {
      "text/plain": [
       "['new', 6, 75, 4, 3, ['love', 'friend'], 'pc', 'mouse']"
      ]
     },
     "execution_count": 30,
     "metadata": {},
     "output_type": "execute_result"
    }
   ],
   "source": [
    "list1"
   ]
  },
  {
   "cell_type": "code",
   "execution_count": 31,
   "id": "d9e5c1cf",
   "metadata": {},
   "outputs": [
    {
     "data": {
      "text/plain": [
       "[2, 6, 75, 4, 3, ['love', 'friend'], 'pc', 'mouse']"
      ]
     },
     "execution_count": 31,
     "metadata": {},
     "output_type": "execute_result"
    }
   ],
   "source": [
    "B"
   ]
  },
  {
   "cell_type": "markdown",
   "id": "282324bc",
   "metadata": {},
   "source": [
    "# Sets"
   ]
  },
  {
   "cell_type": "raw",
   "id": "3586ae1f",
   "metadata": {},
   "source": [
    "Sets have unique values. There will be not repetitive items when actual set is created."
   ]
  },
  {
   "cell_type": "code",
   "execution_count": 32,
   "id": "a2d27152",
   "metadata": {},
   "outputs": [
    {
     "data": {
      "text/plain": [
       "{1, 'a', 'c', 'd'}"
      ]
     },
     "execution_count": 32,
     "metadata": {},
     "output_type": "execute_result"
    }
   ],
   "source": [
    "Set = {\"a\",\"c\",1,\"d\",\"a\"}\n",
    "Set"
   ]
  },
  {
   "cell_type": "markdown",
   "id": "b8b2b230",
   "metadata": {},
   "source": [
    "We can convert list to set with set() function."
   ]
  },
  {
   "cell_type": "code",
   "execution_count": 33,
   "id": "2ec0a724",
   "metadata": {},
   "outputs": [],
   "source": [
    "lisToSet1 = [\"a\",\"e\",2,\"3\"]"
   ]
  },
  {
   "cell_type": "code",
   "execution_count": 34,
   "id": "e7f023d5",
   "metadata": {},
   "outputs": [
    {
     "data": {
      "text/plain": [
       "{2, '3', 'a', 'e'}"
      ]
     },
     "execution_count": 34,
     "metadata": {},
     "output_type": "execute_result"
    }
   ],
   "source": [
    "set1 = set(lisToSet1)\n",
    "set1"
   ]
  },
  {
   "cell_type": "markdown",
   "id": "3aea32fd",
   "metadata": {},
   "source": [
    "### ATTENTION\n",
    "If a list contains another list as a element in itself, it could not conver to set. When you try below code, you will get an error message. Don't worry. :)"
   ]
  },
  {
   "cell_type": "code",
   "execution_count": 35,
   "id": "e53c3f9b",
   "metadata": {},
   "outputs": [
    {
     "ename": "TypeError",
     "evalue": "unhashable type: 'list'",
     "output_type": "error",
     "traceback": [
      "\u001b[1;31m---------------------------------------------------------------------------\u001b[0m",
      "\u001b[1;31mTypeError\u001b[0m                                 Traceback (most recent call last)",
      "\u001b[1;32m<ipython-input-35-4b37eef53ed8>\u001b[0m in \u001b[0;36m<module>\u001b[1;34m\u001b[0m\n\u001b[0;32m      1\u001b[0m \u001b[0mlisToSet2\u001b[0m \u001b[1;33m=\u001b[0m \u001b[1;33m[\u001b[0m\u001b[1;34m\"a\"\u001b[0m\u001b[1;33m,\u001b[0m\u001b[1;34m\"e\"\u001b[0m\u001b[1;33m,\u001b[0m\u001b[1;36m2\u001b[0m\u001b[1;33m,\u001b[0m\u001b[1;34m\"3\"\u001b[0m\u001b[1;33m,\u001b[0m\u001b[1;33m[\u001b[0m\u001b[1;34m\"c\"\u001b[0m\u001b[1;33m,\u001b[0m\u001b[1;36m1\u001b[0m\u001b[1;33m]\u001b[0m\u001b[1;33m]\u001b[0m\u001b[1;33m\u001b[0m\u001b[1;33m\u001b[0m\u001b[0m\n\u001b[1;32m----> 2\u001b[1;33m \u001b[0mset2\u001b[0m \u001b[1;33m=\u001b[0m \u001b[0mset\u001b[0m\u001b[1;33m(\u001b[0m\u001b[0mlisToSet2\u001b[0m\u001b[1;33m)\u001b[0m\u001b[1;33m\u001b[0m\u001b[1;33m\u001b[0m\u001b[0m\n\u001b[0m",
      "\u001b[1;31mTypeError\u001b[0m: unhashable type: 'list'"
     ]
    }
   ],
   "source": [
    "lisToSet2 = [\"a\",\"e\",2,\"3\",[\"c\",1]]\n",
    "set2 = set(lisToSet2)"
   ]
  },
  {
   "cell_type": "markdown",
   "id": "d1261113",
   "metadata": {},
   "source": [
    "We can add items to set with add method and delete them with remove method."
   ]
  },
  {
   "cell_type": "code",
   "execution_count": 36,
   "id": "11a8058c",
   "metadata": {},
   "outputs": [
    {
     "data": {
      "text/plain": [
       "{2, '3', 'a', 'e', 'love yourself'}"
      ]
     },
     "execution_count": 36,
     "metadata": {},
     "output_type": "execute_result"
    }
   ],
   "source": [
    "set1.add(\"love yourself\")\n",
    "set1"
   ]
  },
  {
   "cell_type": "code",
   "execution_count": 37,
   "id": "fcf5c0bc",
   "metadata": {},
   "outputs": [
    {
     "data": {
      "text/plain": [
       "{2, '3', 'a', 'e'}"
      ]
     },
     "execution_count": 37,
     "metadata": {},
     "output_type": "execute_result"
    }
   ],
   "source": [
    "set1.remove(\"love yourself\")\n",
    "set1"
   ]
  },
  {
   "cell_type": "markdown",
   "id": "f495249b",
   "metadata": {},
   "source": [
    "We can check the items using \"in\""
   ]
  },
  {
   "cell_type": "code",
   "execution_count": 38,
   "id": "73938dcd",
   "metadata": {},
   "outputs": [
    {
     "data": {
      "text/plain": [
       "False"
      ]
     },
     "execution_count": 38,
     "metadata": {},
     "output_type": "execute_result"
    }
   ],
   "source": [
    "\"love yourself\" in set1"
   ]
  },
  {
   "cell_type": "code",
   "execution_count": 39,
   "id": "19c6b993",
   "metadata": {},
   "outputs": [
    {
     "data": {
      "text/plain": [
       "False"
      ]
     },
     "execution_count": 39,
     "metadata": {},
     "output_type": "execute_result"
    }
   ],
   "source": [
    "\"2\" in set1"
   ]
  },
  {
   "cell_type": "code",
   "execution_count": 40,
   "id": "84044a6f",
   "metadata": {},
   "outputs": [
    {
     "data": {
      "text/plain": [
       "True"
      ]
     },
     "execution_count": 40,
     "metadata": {},
     "output_type": "execute_result"
    }
   ],
   "source": [
    "2 in set1 \n",
    "#you should pay attention to \"2\" and 2 are different items. \n",
    "#One of them is integer and the other one is string. In our case, set1 has the string one."
   ]
  },
  {
   "cell_type": "code",
   "execution_count": 41,
   "id": "8e16303f",
   "metadata": {},
   "outputs": [
    {
     "ename": "TypeError",
     "evalue": "'set' object is not subscriptable",
     "output_type": "error",
     "traceback": [
      "\u001b[1;31m---------------------------------------------------------------------------\u001b[0m",
      "\u001b[1;31mTypeError\u001b[0m                                 Traceback (most recent call last)",
      "\u001b[1;32m<ipython-input-41-5d0c3d1db983>\u001b[0m in \u001b[0;36m<module>\u001b[1;34m\u001b[0m\n\u001b[1;32m----> 1\u001b[1;33m \u001b[0mset1\u001b[0m\u001b[1;33m.\u001b[0m\u001b[0mremove\u001b[0m\u001b[1;33m(\u001b[0m\u001b[0mset1\u001b[0m\u001b[1;33m[\u001b[0m\u001b[1;36m0\u001b[0m\u001b[1;33m]\u001b[0m\u001b[1;33m)\u001b[0m \u001b[1;31m#set does not supoort indexing!!!!!!!!! you will get an error message.\u001b[0m\u001b[1;33m\u001b[0m\u001b[1;33m\u001b[0m\u001b[0m\n\u001b[0m",
      "\u001b[1;31mTypeError\u001b[0m: 'set' object is not subscriptable"
     ]
    }
   ],
   "source": [
    "set1.remove(set1[0]) #set does not supoort indexing!!!!!!!!! you will get an error message."
   ]
  },
  {
   "cell_type": "markdown",
   "id": "22705266",
   "metadata": {},
   "source": [
    "#### Intersection, Difference and Union\n",
    "When we apply the intersection operation to two sets, all the items are that not in both sets disappear."
   ]
  },
  {
   "cell_type": "code",
   "execution_count": 42,
   "id": "1c73a47f",
   "metadata": {},
   "outputs": [],
   "source": [
    "fruits1 = {\"pineapple\", \"lemon\",\"watermelon\",\"cherry\"}\n",
    "fruits2 = {\"apple\",\"cherry\",\"strawberry\",\"lemon\"}"
   ]
  },
  {
   "cell_type": "code",
   "execution_count": 43,
   "id": "7a785366",
   "metadata": {},
   "outputs": [
    {
     "data": {
      "text/plain": [
       "{'cherry', 'lemon'}"
      ]
     },
     "execution_count": 43,
     "metadata": {},
     "output_type": "execute_result"
    }
   ],
   "source": [
    "#intersection of sets\n",
    "intsec_fruits = fruits1 & fruits2\n",
    "intsec_fruits"
   ]
  },
  {
   "cell_type": "markdown",
   "id": "a2d21146",
   "metadata": {},
   "source": [
    "Also, we can use intersection method."
   ]
  },
  {
   "cell_type": "code",
   "execution_count": 44,
   "id": "caa44e76",
   "metadata": {},
   "outputs": [
    {
     "data": {
      "text/plain": [
       "{'cherry', 'lemon'}"
      ]
     },
     "execution_count": 44,
     "metadata": {},
     "output_type": "execute_result"
    }
   ],
   "source": [
    "fruits1.intersection(fruits2)"
   ]
  },
  {
   "cell_type": "code",
   "execution_count": 45,
   "id": "38fdc6db",
   "metadata": {},
   "outputs": [
    {
     "data": {
      "text/plain": [
       "{'cherry', 'lemon'}"
      ]
     },
     "execution_count": 45,
     "metadata": {},
     "output_type": "execute_result"
    }
   ],
   "source": [
    "fruits2.intersection(fruits1)"
   ]
  },
  {
   "cell_type": "code",
   "execution_count": 46,
   "id": "35f86037",
   "metadata": {},
   "outputs": [
    {
     "data": {
      "text/plain": [
       "{'pineapple', 'watermelon'}"
      ]
     },
     "execution_count": 46,
     "metadata": {},
     "output_type": "execute_result"
    }
   ],
   "source": [
    "#difference of sets\n",
    "fruits1.difference(fruits2)"
   ]
  },
  {
   "cell_type": "code",
   "execution_count": 47,
   "id": "6d6d8b54",
   "metadata": {},
   "outputs": [
    {
     "data": {
      "text/plain": [
       "{'apple', 'strawberry'}"
      ]
     },
     "execution_count": 47,
     "metadata": {},
     "output_type": "execute_result"
    }
   ],
   "source": [
    "fruits2.difference(fruits1)"
   ]
  },
  {
   "cell_type": "code",
   "execution_count": 48,
   "id": "53fc17ea",
   "metadata": {},
   "outputs": [
    {
     "data": {
      "text/plain": [
       "{'apple', 'cherry', 'lemon', 'pineapple', 'strawberry', 'watermelon'}"
      ]
     },
     "execution_count": 48,
     "metadata": {},
     "output_type": "execute_result"
    }
   ],
   "source": [
    "#union of sets\n",
    "fruits1.union(fruits2)"
   ]
  },
  {
   "cell_type": "markdown",
   "id": "e262eda0",
   "metadata": {},
   "source": [
    "We can check that a set is a subset of a different set."
   ]
  },
  {
   "cell_type": "code",
   "execution_count": 49,
   "id": "95caf9af",
   "metadata": {},
   "outputs": [],
   "source": [
    "fruits3= {\"cherry\",\"apple\"}"
   ]
  },
  {
   "cell_type": "code",
   "execution_count": 50,
   "id": "bdcf5aea",
   "metadata": {},
   "outputs": [
    {
     "data": {
      "text/plain": [
       "False"
      ]
     },
     "execution_count": 50,
     "metadata": {},
     "output_type": "execute_result"
    }
   ],
   "source": [
    "fruits3.issubset(fruits1)"
   ]
  },
  {
   "cell_type": "code",
   "execution_count": 51,
   "id": "6a93668e",
   "metadata": {},
   "outputs": [
    {
     "data": {
      "text/plain": [
       "True"
      ]
     },
     "execution_count": 51,
     "metadata": {},
     "output_type": "execute_result"
    }
   ],
   "source": [
    "fruits3.issubset(fruits2)"
   ]
  },
  {
   "cell_type": "markdown",
   "id": "e8241224",
   "metadata": {},
   "source": [
    "We can check that a set is superset of a different set. If a set covers all elements an other set, it is called superset."
   ]
  },
  {
   "cell_type": "code",
   "execution_count": 52,
   "id": "cb618b4c",
   "metadata": {},
   "outputs": [
    {
     "data": {
      "text/plain": [
       "True"
      ]
     },
     "execution_count": 52,
     "metadata": {},
     "output_type": "execute_result"
    }
   ],
   "source": [
    "fruits2.issuperset(fruits3)"
   ]
  },
  {
   "cell_type": "markdown",
   "id": "f7160c3e",
   "metadata": {},
   "source": [
    "# Dictionaries"
   ]
  },
  {
   "cell_type": "code",
   "execution_count": 150,
   "id": "2535a351",
   "metadata": {},
   "outputs": [
    {
     "data": {
      "text/plain": [
       "{'key1': 1, 'key2': 2, 'key3': 'string', 'key4': (1, 2, 3), 'key5': [1, 2, 3]}"
      ]
     },
     "execution_count": 150,
     "metadata": {},
     "output_type": "execute_result"
    }
   ],
   "source": [
    "Dict1 = {\"key1\":1, \"key2\":2, \"key3\":\"string\",\"key4\":(1,2,3), \"key5\":[1,2,3]}\n",
    "Dict1"
   ]
  },
  {
   "cell_type": "markdown",
   "id": "75c81b5c",
   "metadata": {},
   "source": [
    "The keys can be integer or string or immutable object like tuple."
   ]
  },
  {
   "cell_type": "code",
   "execution_count": 151,
   "id": "cf0f6604",
   "metadata": {},
   "outputs": [
    {
     "data": {
      "text/plain": [
       "{1: 'integer', '2': 'string', (3, 4): 'tuple', '5': 'again tuple'}"
      ]
     },
     "execution_count": 151,
     "metadata": {},
     "output_type": "execute_result"
    }
   ],
   "source": [
    "Dict2 = {1:\"integer\",\"2\":\"string\",(3,4):\"tuple\",(\"5\"):\"again tuple\"}\n",
    "Dict2"
   ]
  },
  {
   "cell_type": "markdown",
   "id": "e8bae007",
   "metadata": {},
   "source": [
    "Access the value by key"
   ]
  },
  {
   "cell_type": "code",
   "execution_count": 152,
   "id": "fdb615c2",
   "metadata": {},
   "outputs": [
    {
     "data": {
      "text/plain": [
       "1"
      ]
     },
     "execution_count": 152,
     "metadata": {},
     "output_type": "execute_result"
    }
   ],
   "source": [
    "Dict1[\"key1\"] "
   ]
  },
  {
   "cell_type": "markdown",
   "id": "2a185b7b",
   "metadata": {},
   "source": [
    "Also, we can use get() funciton to access value by key"
   ]
  },
  {
   "cell_type": "code",
   "execution_count": 153,
   "id": "b02a1a80",
   "metadata": {},
   "outputs": [
    {
     "data": {
      "text/plain": [
       "1"
      ]
     },
     "execution_count": 153,
     "metadata": {},
     "output_type": "execute_result"
    }
   ],
   "source": [
    "Dict1.get(\"key1\")"
   ]
  },
  {
   "cell_type": "code",
   "execution_count": 154,
   "id": "d2de5189",
   "metadata": {},
   "outputs": [],
   "source": [
    "komtas = {\"Büşra\":[\"Data Engineer\", 23, \"Eskişehir\"],\\\n",
    "          \"Anıl\":[\"Data Scientist\",23,\"Eskişehir\"],\\\n",
    "          \"Mutlu\":[\"Data Engineer\",24,\"İstanbul\"],\\\n",
    "          \"Sibel\":[\"Data Engineer\",26,\"Eskişehir\"]}"
   ]
  },
  {
   "cell_type": "code",
   "execution_count": 155,
   "id": "612a1077",
   "metadata": {},
   "outputs": [
    {
     "data": {
      "text/plain": [
       "{'Büşra': ['Data Engineer', 23, 'Eskişehir'],\n",
       " 'Anıl': ['Data Scientist', 23, 'Eskişehir'],\n",
       " 'Mutlu': ['Data Engineer', 24, 'İstanbul'],\n",
       " 'Sibel': ['Data Engineer', 26, 'Eskişehir']}"
      ]
     },
     "execution_count": 155,
     "metadata": {},
     "output_type": "execute_result"
    }
   ],
   "source": [
    "komtas"
   ]
  },
  {
   "cell_type": "markdown",
   "id": "8885ebd4",
   "metadata": {},
   "source": [
    "We can get all keys with keys() funciton"
   ]
  },
  {
   "cell_type": "code",
   "execution_count": 156,
   "id": "727a0b2d",
   "metadata": {},
   "outputs": [
    {
     "data": {
      "text/plain": [
       "dict_keys(['Büşra', 'Anıl', 'Mutlu', 'Sibel'])"
      ]
     },
     "execution_count": 156,
     "metadata": {},
     "output_type": "execute_result"
    }
   ],
   "source": [
    "komtas.keys()"
   ]
  },
  {
   "cell_type": "code",
   "execution_count": 157,
   "id": "c6f8f2e7",
   "metadata": {},
   "outputs": [
    {
     "data": {
      "text/plain": [
       "dict_keys"
      ]
     },
     "execution_count": 157,
     "metadata": {},
     "output_type": "execute_result"
    }
   ],
   "source": [
    "type(komtas.keys())"
   ]
  },
  {
   "cell_type": "code",
   "execution_count": 158,
   "id": "5fc81914",
   "metadata": {},
   "outputs": [
    {
     "ename": "TypeError",
     "evalue": "'dict_keys' object is not subscriptable",
     "output_type": "error",
     "traceback": [
      "\u001b[1;31m---------------------------------------------------------------------------\u001b[0m",
      "\u001b[1;31mTypeError\u001b[0m                                 Traceback (most recent call last)",
      "\u001b[1;32m<ipython-input-158-af706a0f608b>\u001b[0m in \u001b[0;36m<module>\u001b[1;34m\u001b[0m\n\u001b[0;32m      1\u001b[0m \u001b[0ma\u001b[0m \u001b[1;33m=\u001b[0m \u001b[0mkomtas\u001b[0m\u001b[1;33m.\u001b[0m\u001b[0mkeys\u001b[0m\u001b[1;33m(\u001b[0m\u001b[1;33m)\u001b[0m \u001b[1;31m#It's not a list.\u001b[0m\u001b[1;33m\u001b[0m\u001b[1;33m\u001b[0m\u001b[0m\n\u001b[1;32m----> 2\u001b[1;33m \u001b[0ma\u001b[0m\u001b[1;33m[\u001b[0m\u001b[1;36m0\u001b[0m\u001b[1;33m]\u001b[0m\u001b[1;33m\u001b[0m\u001b[1;33m\u001b[0m\u001b[0m\n\u001b[0m",
      "\u001b[1;31mTypeError\u001b[0m: 'dict_keys' object is not subscriptable"
     ]
    }
   ],
   "source": [
    "a = komtas.keys() #It's not a list.\n",
    "a[0]"
   ]
  },
  {
   "cell_type": "code",
   "execution_count": 159,
   "id": "e04e1dd5",
   "metadata": {},
   "outputs": [
    {
     "name": "stdout",
     "output_type": "stream",
     "text": [
      "Büşra\n",
      "Anıl\n",
      "Mutlu\n",
      "Sibel\n"
     ]
    }
   ],
   "source": [
    "for i in komtas.keys():  #we can acces key directly but we can use loop and maybe we can add them to a list.\n",
    "    print(i)"
   ]
  },
  {
   "cell_type": "markdown",
   "id": "98ee774d",
   "metadata": {},
   "source": [
    "We can get values with values() method."
   ]
  },
  {
   "cell_type": "code",
   "execution_count": 160,
   "id": "bdafdf8c",
   "metadata": {},
   "outputs": [
    {
     "data": {
      "text/plain": [
       "dict_values([['Data Engineer', 23, 'Eskişehir'], ['Data Scientist', 23, 'Eskişehir'], ['Data Engineer', 24, 'İstanbul'], ['Data Engineer', 26, 'Eskişehir']])"
      ]
     },
     "execution_count": 160,
     "metadata": {},
     "output_type": "execute_result"
    }
   ],
   "source": [
    "komtas.values()"
   ]
  },
  {
   "cell_type": "code",
   "execution_count": 161,
   "id": "4dd558c3",
   "metadata": {},
   "outputs": [
    {
     "name": "stdout",
     "output_type": "stream",
     "text": [
      "['Data Engineer', 23, 'Eskişehir']\n",
      "['Data Scientist', 23, 'Eskişehir']\n",
      "['Data Engineer', 24, 'İstanbul']\n",
      "['Data Engineer', 26, 'Eskişehir']\n"
     ]
    }
   ],
   "source": [
    "for i in komtas.values(): #we can acces values directly but we can use loop and maybe we can add them to a list.\n",
    "    print(i)"
   ]
  },
  {
   "cell_type": "markdown",
   "id": "6e76fcb1",
   "metadata": {},
   "source": [
    "### Add something to dictionary"
   ]
  },
  {
   "cell_type": "code",
   "execution_count": 162,
   "id": "17d4220e",
   "metadata": {},
   "outputs": [
    {
     "data": {
      "text/plain": [
       "dict_keys(['Büşra', 'Anıl', 'Mutlu', 'Sibel'])"
      ]
     },
     "execution_count": 162,
     "metadata": {},
     "output_type": "execute_result"
    }
   ],
   "source": [
    "komtas.keys()"
   ]
  },
  {
   "cell_type": "code",
   "execution_count": 163,
   "id": "4d9b327a",
   "metadata": {},
   "outputs": [],
   "source": [
    "komtas[\"İlkay\"] = [\"Data Engineer\",23,\"Eskişehir\"]"
   ]
  },
  {
   "cell_type": "code",
   "execution_count": 164,
   "id": "28e158e2",
   "metadata": {},
   "outputs": [
    {
     "data": {
      "text/plain": [
       "{'Büşra': ['Data Engineer', 23, 'Eskişehir'],\n",
       " 'Anıl': ['Data Scientist', 23, 'Eskişehir'],\n",
       " 'Mutlu': ['Data Engineer', 24, 'İstanbul'],\n",
       " 'Sibel': ['Data Engineer', 26, 'Eskişehir'],\n",
       " 'İlkay': ['Data Engineer', 23, 'Eskişehir']}"
      ]
     },
     "execution_count": 164,
     "metadata": {},
     "output_type": "execute_result"
    }
   ],
   "source": [
    "komtas"
   ]
  },
  {
   "cell_type": "code",
   "execution_count": 165,
   "id": "a165208b",
   "metadata": {},
   "outputs": [],
   "source": [
    "komtas[\"Göksu\"] = \"Data Scientist\""
   ]
  },
  {
   "cell_type": "code",
   "execution_count": 166,
   "id": "10afd625",
   "metadata": {},
   "outputs": [
    {
     "data": {
      "text/plain": [
       "{'Büşra': ['Data Engineer', 23, 'Eskişehir'],\n",
       " 'Anıl': ['Data Scientist', 23, 'Eskişehir'],\n",
       " 'Mutlu': ['Data Engineer', 24, 'İstanbul'],\n",
       " 'Sibel': ['Data Engineer', 26, 'Eskişehir'],\n",
       " 'İlkay': ['Data Engineer', 23, 'Eskişehir'],\n",
       " 'Göksu': 'Data Scientist'}"
      ]
     },
     "execution_count": 166,
     "metadata": {},
     "output_type": "execute_result"
    }
   ],
   "source": [
    "komtas"
   ]
  },
  {
   "cell_type": "code",
   "execution_count": 167,
   "id": "5f4858f8",
   "metadata": {},
   "outputs": [],
   "source": [
    "komtas[\"Büşra\"] = \"Data Engineer\""
   ]
  },
  {
   "cell_type": "code",
   "execution_count": 168,
   "id": "1a3636c4",
   "metadata": {},
   "outputs": [
    {
     "data": {
      "text/plain": [
       "{'Büşra': 'Data Engineer',\n",
       " 'Anıl': ['Data Scientist', 23, 'Eskişehir'],\n",
       " 'Mutlu': ['Data Engineer', 24, 'İstanbul'],\n",
       " 'Sibel': ['Data Engineer', 26, 'Eskişehir'],\n",
       " 'İlkay': ['Data Engineer', 23, 'Eskişehir'],\n",
       " 'Göksu': 'Data Scientist'}"
      ]
     },
     "execution_count": 168,
     "metadata": {},
     "output_type": "execute_result"
    }
   ],
   "source": [
    "komtas"
   ]
  },
  {
   "cell_type": "code",
   "execution_count": 169,
   "id": "da7387d3",
   "metadata": {},
   "outputs": [
    {
     "data": {
      "text/plain": [
       "['Data Scientist', 23, 'Eskişehir']"
      ]
     },
     "execution_count": 169,
     "metadata": {},
     "output_type": "execute_result"
    }
   ],
   "source": [
    "komtas[\"Anıl\"]"
   ]
  },
  {
   "cell_type": "code",
   "execution_count": 170,
   "id": "6acffcc7",
   "metadata": {},
   "outputs": [],
   "source": [
    "komtas[\"Anıl\"][0] = \"Data Engineer\""
   ]
  },
  {
   "cell_type": "code",
   "execution_count": 171,
   "id": "f0f888f1",
   "metadata": {},
   "outputs": [
    {
     "data": {
      "text/plain": [
       "{'Büşra': 'Data Engineer',\n",
       " 'Anıl': ['Data Engineer', 23, 'Eskişehir'],\n",
       " 'Mutlu': ['Data Engineer', 24, 'İstanbul'],\n",
       " 'Sibel': ['Data Engineer', 26, 'Eskişehir'],\n",
       " 'İlkay': ['Data Engineer', 23, 'Eskişehir'],\n",
       " 'Göksu': 'Data Scientist'}"
      ]
     },
     "execution_count": 171,
     "metadata": {},
     "output_type": "execute_result"
    }
   ],
   "source": [
    "komtas"
   ]
  },
  {
   "cell_type": "markdown",
   "id": "b801328b",
   "metadata": {},
   "source": [
    "### Delete something in dictionary"
   ]
  },
  {
   "cell_type": "code",
   "execution_count": 172,
   "id": "c11d33ce",
   "metadata": {},
   "outputs": [],
   "source": [
    "del(komtas[\"Büşra\"]) # del(\"Büşra\") doesn't work!!!!!!!!!!!!!!!!!!"
   ]
  },
  {
   "cell_type": "code",
   "execution_count": 173,
   "id": "9f8bf9dc",
   "metadata": {},
   "outputs": [
    {
     "data": {
      "text/plain": [
       "{'Anıl': ['Data Engineer', 23, 'Eskişehir'],\n",
       " 'Mutlu': ['Data Engineer', 24, 'İstanbul'],\n",
       " 'Sibel': ['Data Engineer', 26, 'Eskişehir'],\n",
       " 'İlkay': ['Data Engineer', 23, 'Eskişehir'],\n",
       " 'Göksu': 'Data Scientist'}"
      ]
     },
     "execution_count": 173,
     "metadata": {},
     "output_type": "execute_result"
    }
   ],
   "source": [
    "komtas"
   ]
  },
  {
   "cell_type": "markdown",
   "id": "3a7fe749",
   "metadata": {},
   "source": [
    "We can use pop() method to delete itemss but it's a little bit different. you can see below the difference between del and pop."
   ]
  },
  {
   "cell_type": "code",
   "execution_count": 174,
   "id": "ee7db6ce",
   "metadata": {},
   "outputs": [
    {
     "data": {
      "text/plain": [
       "'Data Scientist'"
      ]
     },
     "execution_count": 174,
     "metadata": {},
     "output_type": "execute_result"
    }
   ],
   "source": [
    "komtas.pop(\"Göksu\") #komtas.pop(komtas[\"Göksu\"]) doesn't work!!!!!!!!!!!!!!!!!!!11"
   ]
  },
  {
   "cell_type": "markdown",
   "id": "bb34d218",
   "metadata": {},
   "source": [
    "pop() method's output is the deleted element."
   ]
  },
  {
   "cell_type": "code",
   "execution_count": 175,
   "id": "cf2e6037",
   "metadata": {},
   "outputs": [
    {
     "data": {
      "text/plain": [
       "{'Anıl': ['Data Engineer', 23, 'Eskişehir'],\n",
       " 'Mutlu': ['Data Engineer', 24, 'İstanbul'],\n",
       " 'Sibel': ['Data Engineer', 26, 'Eskişehir'],\n",
       " 'İlkay': ['Data Engineer', 23, 'Eskişehir']}"
      ]
     },
     "execution_count": 175,
     "metadata": {},
     "output_type": "execute_result"
    }
   ],
   "source": [
    "komtas"
   ]
  },
  {
   "cell_type": "code",
   "execution_count": 176,
   "id": "0d9364c9",
   "metadata": {},
   "outputs": [
    {
     "data": {
      "text/plain": [
       "[['Data Engineer', 23, 'Eskişehir'],\n",
       " ['Data Engineer', 24, 'İstanbul'],\n",
       " ['Data Engineer', 26, 'Eskişehir'],\n",
       " ['Data Engineer', 23, 'Eskişehir'],\n",
       " 'Data Scientist']"
      ]
     },
     "execution_count": 176,
     "metadata": {},
     "output_type": "execute_result"
    }
   ],
   "source": [
    "values_list = [i for i in values]\n",
    "values_list"
   ]
  },
  {
   "cell_type": "code",
   "execution_count": 177,
   "id": "06636ec2",
   "metadata": {},
   "outputs": [
    {
     "data": {
      "text/plain": [
       "False"
      ]
     },
     "execution_count": 177,
     "metadata": {},
     "output_type": "execute_result"
    }
   ],
   "source": [
    "\"Büşra\" in komtas"
   ]
  },
  {
   "cell_type": "code",
   "execution_count": 178,
   "id": "8952d620",
   "metadata": {},
   "outputs": [
    {
     "data": {
      "text/plain": [
       "True"
      ]
     },
     "execution_count": 178,
     "metadata": {},
     "output_type": "execute_result"
    }
   ],
   "source": [
    "\"Sibel\" in komtas"
   ]
  },
  {
   "cell_type": "code",
   "execution_count": 179,
   "id": "ec9fb3f0",
   "metadata": {},
   "outputs": [
    {
     "name": "stdout",
     "output_type": "stream",
     "text": [
      "['Data Engineer', 24, 'İstanbul']\n"
     ]
    }
   ],
   "source": [
    "if \"Mutlu\" in komtas:\n",
    "    print(komtas[\"Mutlu\"])"
   ]
  },
  {
   "cell_type": "markdown",
   "id": "26e7772f",
   "metadata": {},
   "source": [
    "#### If we want to delete all items in dictionary, we can use clear() method."
   ]
  },
  {
   "cell_type": "code",
   "execution_count": 183,
   "id": "41b3151e",
   "metadata": {},
   "outputs": [],
   "source": [
    "dict = {\"key1\":1,\"key2\":2}"
   ]
  },
  {
   "cell_type": "code",
   "execution_count": 184,
   "id": "026b3c71",
   "metadata": {},
   "outputs": [
    {
     "data": {
      "text/plain": [
       "{'key1': 1, 'key2': 2}"
      ]
     },
     "execution_count": 184,
     "metadata": {},
     "output_type": "execute_result"
    }
   ],
   "source": [
    "dict"
   ]
  },
  {
   "cell_type": "code",
   "execution_count": 185,
   "id": "9173cfc3",
   "metadata": {},
   "outputs": [],
   "source": [
    "dict.clear()"
   ]
  },
  {
   "cell_type": "code",
   "execution_count": 186,
   "id": "767a41f8",
   "metadata": {},
   "outputs": [
    {
     "data": {
      "text/plain": [
       "{}"
      ]
     },
     "execution_count": 186,
     "metadata": {},
     "output_type": "execute_result"
    }
   ],
   "source": [
    "dict"
   ]
  },
  {
   "cell_type": "markdown",
   "id": "96b2cda4",
   "metadata": {},
   "source": [
    "### An example from Lab"
   ]
  },
  {
   "cell_type": "markdown",
   "id": "b2428f62",
   "metadata": {},
   "source": [
    "Create a dictionary"
   ]
  },
  {
   "cell_type": "code",
   "execution_count": 180,
   "id": "b7786b3e",
   "metadata": {},
   "outputs": [
    {
     "data": {
      "text/plain": [
       "{'The Bodyguard': 50, 'Back in Black': 50, 'Thriller': 65}"
      ]
     },
     "execution_count": 180,
     "metadata": {},
     "output_type": "execute_result"
    }
   ],
   "source": [
    "albums = [\"The Bodyguard\",\"Back in Black\",\"Thriller\"]\n",
    "sales = [50,50,65]\n",
    "album_sales_dict = dict(zip(albums,sales))\n",
    "album_sales_dict"
   ]
  },
  {
   "cell_type": "markdown",
   "id": "348a691b",
   "metadata": {},
   "source": [
    "Find the total sales using dictionary"
   ]
  },
  {
   "cell_type": "code",
   "execution_count": 181,
   "id": "98610c6c",
   "metadata": {},
   "outputs": [
    {
     "data": {
      "text/plain": [
       "165"
      ]
     },
     "execution_count": 181,
     "metadata": {},
     "output_type": "execute_result"
    }
   ],
   "source": [
    "sum(album_sales_dict.values())"
   ]
  }
 ],
 "metadata": {
  "kernelspec": {
   "display_name": "Python 3",
   "language": "python",
   "name": "python3"
  },
  "language_info": {
   "codemirror_mode": {
    "name": "ipython",
    "version": 3
   },
   "file_extension": ".py",
   "mimetype": "text/x-python",
   "name": "python",
   "nbconvert_exporter": "python",
   "pygments_lexer": "ipython3",
   "version": "3.8.8"
  }
 },
 "nbformat": 4,
 "nbformat_minor": 5
}
