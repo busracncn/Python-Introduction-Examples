{
 "cells": [
  {
   "cell_type": "markdown",
   "id": "383f3de5",
   "metadata": {},
   "source": [
    "# Conditions"
   ]
  },
  {
   "cell_type": "markdown",
   "id": "f46a5a4a",
   "metadata": {},
   "source": [
    "\"==\" is equal to \\\n",
    "\"<\" less than \\\n",
    "\">\" greater than \\\n",
    "\"<=\" less or equal to \\\n",
    "\">=\" greater or equal to \\\n",
    "\"!=\" not equal to"
   ]
  },
  {
   "cell_type": "markdown",
   "id": "fb3f934c",
   "metadata": {},
   "source": [
    "### \"if\" statenment"
   ]
  },
  {
   "cell_type": "code",
   "execution_count": 85,
   "id": "66f8f0c1",
   "metadata": {},
   "outputs": [],
   "source": [
    "if 5 > 6 :\n",
    "    print(\"a\")"
   ]
  },
  {
   "cell_type": "code",
   "execution_count": 86,
   "id": "dc25c95c",
   "metadata": {},
   "outputs": [
    {
     "name": "stdout",
     "output_type": "stream",
     "text": [
      "a\n"
     ]
    }
   ],
   "source": [
    "if 5 < 6 :\n",
    "    print(\"a\")"
   ]
  },
  {
   "cell_type": "markdown",
   "id": "cbd64d61",
   "metadata": {},
   "source": [
    "### \"if else\" statement"
   ]
  },
  {
   "cell_type": "code",
   "execution_count": 87,
   "id": "dd98acd6",
   "metadata": {},
   "outputs": [],
   "source": [
    "age = 23"
   ]
  },
  {
   "cell_type": "code",
   "execution_count": 88,
   "id": "1bbef461",
   "metadata": {},
   "outputs": [
    {
     "name": "stdout",
     "output_type": "stream",
     "text": [
      "can access\n"
     ]
    }
   ],
   "source": [
    "if age < 18:\n",
    "    print(\"can't access\")\n",
    "else:\n",
    "    print(\"can access\")"
   ]
  },
  {
   "cell_type": "code",
   "execution_count": 89,
   "id": "a4ca908c",
   "metadata": {},
   "outputs": [],
   "source": [
    "age = 15"
   ]
  },
  {
   "cell_type": "code",
   "execution_count": 90,
   "id": "ca3287bc",
   "metadata": {},
   "outputs": [
    {
     "name": "stdout",
     "output_type": "stream",
     "text": [
      "can't access\n"
     ]
    }
   ],
   "source": [
    "if age < 18:\n",
    "    print(\"can't access\")\n",
    "else:\n",
    "    print(\"can access\")"
   ]
  },
  {
   "cell_type": "code",
   "execution_count": 91,
   "id": "cef6f180",
   "metadata": {},
   "outputs": [],
   "source": [
    "age = 10"
   ]
  },
  {
   "cell_type": "code",
   "execution_count": 92,
   "id": "f051a1b6",
   "metadata": {},
   "outputs": [
    {
     "name": "stdout",
     "output_type": "stream",
     "text": [
      "can't access\n"
     ]
    }
   ],
   "source": [
    "if age < 15:\n",
    "    print(\"can't access\")\n",
    "elif 15 >= age < 18:\n",
    "    print(\"need permission\")\n",
    "else:\n",
    "    print(\"can access\")"
   ]
  },
  {
   "cell_type": "code",
   "execution_count": 93,
   "id": "7bb97442",
   "metadata": {},
   "outputs": [],
   "source": [
    "age = 15"
   ]
  },
  {
   "cell_type": "code",
   "execution_count": 94,
   "id": "0c217350",
   "metadata": {},
   "outputs": [
    {
     "name": "stdout",
     "output_type": "stream",
     "text": [
      "need permission\n"
     ]
    }
   ],
   "source": [
    "if age < 15:\n",
    "    print(\"can't access\")\n",
    "elif 15 >= age < 18:\n",
    "    print(\"need permission\")\n",
    "else:\n",
    "    print(\"can access\")"
   ]
  },
  {
   "cell_type": "code",
   "execution_count": 95,
   "id": "a065fc2d",
   "metadata": {},
   "outputs": [],
   "source": [
    "age = 18"
   ]
  },
  {
   "cell_type": "code",
   "execution_count": 96,
   "id": "80292b56",
   "metadata": {},
   "outputs": [
    {
     "name": "stdout",
     "output_type": "stream",
     "text": [
      "can access\n"
     ]
    }
   ],
   "source": [
    "if age < 15:\n",
    "    print(\"can't access\")\n",
    "elif 15 >= age < 18:\n",
    "    print(\"need permission\")\n",
    "else:\n",
    "    print(\"can access\")"
   ]
  },
  {
   "cell_type": "markdown",
   "id": "7100d359",
   "metadata": {},
   "source": [
    "### Logic operators\n",
    "OR,AND"
   ]
  },
  {
   "cell_type": "code",
   "execution_count": 97,
   "id": "626253bd",
   "metadata": {},
   "outputs": [],
   "source": [
    "number = 10\n",
    "# If \"if\" statement is True then, the program will not pass the \"elif\" statement. It will print if statement."
   ]
  },
  {
   "cell_type": "code",
   "execution_count": 98,
   "id": "31252648",
   "metadata": {},
   "outputs": [
    {
     "name": "stdout",
     "output_type": "stream",
     "text": [
      "number is less than 100 or greater than 7\n"
     ]
    }
   ],
   "source": [
    "if number < 100 or number > 7:\n",
    "    print(\"number is less than 100 or greater than 7\")\n",
    "elif number > 100 and number >7:\n",
    "    print(\"number is less than 100 and greater than 7\")"
   ]
  },
  {
   "cell_type": "code",
   "execution_count": 99,
   "id": "88456cef",
   "metadata": {},
   "outputs": [],
   "source": [
    "number = 7\n",
    "# 7 is not grater than 7 but less than 100 so, the proogram will print if statement."
   ]
  },
  {
   "cell_type": "code",
   "execution_count": 100,
   "id": "d59e891e",
   "metadata": {},
   "outputs": [
    {
     "name": "stdout",
     "output_type": "stream",
     "text": [
      "number is less than 100 or greater than 7\n"
     ]
    }
   ],
   "source": [
    "if number < 100 or number > 7:\n",
    "    print(\"number is less than 100 or greater than 7\")\n",
    "elif number > 100 and number >7:\n",
    "    print(\"number is less than 100 and greater than 7\")"
   ]
  },
  {
   "cell_type": "code",
   "execution_count": 101,
   "id": "410b80af",
   "metadata": {},
   "outputs": [],
   "source": [
    "number = 101"
   ]
  },
  {
   "cell_type": "code",
   "execution_count": 102,
   "id": "d17acf52",
   "metadata": {},
   "outputs": [
    {
     "name": "stdout",
     "output_type": "stream",
     "text": [
      "number is less than 100 or greater than 7\n"
     ]
    }
   ],
   "source": [
    "if number < 100 or number > 7:\n",
    "    print(\"number is less than 100 or greater than 7\")\n",
    "elif number > 100 and number >7:\n",
    "    print(\"number is less than 100 and greater than 7\")"
   ]
  },
  {
   "cell_type": "code",
   "execution_count": 103,
   "id": "5d60d5ae",
   "metadata": {},
   "outputs": [
    {
     "name": "stdout",
     "output_type": "stream",
     "text": [
      "number is not 100\n"
     ]
    }
   ],
   "source": [
    "if not number == 100:\n",
    "    print(\"number is not 100\")"
   ]
  },
  {
   "cell_type": "code",
   "execution_count": 104,
   "id": "128791eb",
   "metadata": {},
   "outputs": [
    {
     "name": "stdout",
     "output_type": "stream",
     "text": [
      "number is not 100\n"
     ]
    }
   ],
   "source": [
    "if number != 100:\n",
    "    print(\"number is not 100\")"
   ]
  },
  {
   "cell_type": "code",
   "execution_count": 105,
   "id": "62ea9861",
   "metadata": {},
   "outputs": [
    {
     "name": "stdout",
     "output_type": "stream",
     "text": [
      "apple and banana in list\n"
     ]
    }
   ],
   "source": [
    "list = [\"apple\", \"banana\",\"cherry\",\"lemon\"]\n",
    "if \"apple\" in list and \"banana\" in list:\n",
    "    print(\"apple and banana in list\")\n",
    "    "
   ]
  },
  {
   "cell_type": "markdown",
   "id": "e5e65d3a",
   "metadata": {},
   "source": [
    "# Loops"
   ]
  },
  {
   "cell_type": "markdown",
   "id": "fe575e43",
   "metadata": {},
   "source": [
    "### Range() Function\n",
    "range(start,stop,step)"
   ]
  },
  {
   "cell_type": "code",
   "execution_count": 106,
   "id": "b49240ae",
   "metadata": {},
   "outputs": [
    {
     "name": "stdout",
     "output_type": "stream",
     "text": [
      "0\n",
      "1\n",
      "2\n",
      "3\n",
      "4\n"
     ]
    }
   ],
   "source": [
    "for i in range(5):\n",
    "    print(i)"
   ]
  },
  {
   "cell_type": "code",
   "execution_count": 107,
   "id": "5408e24f",
   "metadata": {},
   "outputs": [
    {
     "name": "stdout",
     "output_type": "stream",
     "text": [
      "0\n",
      "1\n",
      "2\n",
      "3\n",
      "4\n"
     ]
    }
   ],
   "source": [
    "for i in range(0,5):\n",
    "    print(i)"
   ]
  },
  {
   "cell_type": "code",
   "execution_count": 108,
   "id": "0986dac0",
   "metadata": {},
   "outputs": [
    {
     "name": "stdout",
     "output_type": "stream",
     "text": [
      "0\n",
      "2\n",
      "4\n"
     ]
    }
   ],
   "source": [
    "for i in range(0,5,2):\n",
    "    print(i)"
   ]
  },
  {
   "cell_type": "code",
   "execution_count": 109,
   "id": "3670fb57",
   "metadata": {},
   "outputs": [
    {
     "name": "stdout",
     "output_type": "stream",
     "text": [
      "5\n",
      "4\n",
      "3\n",
      "2\n"
     ]
    }
   ],
   "source": [
    "for i in range(5,1,-1):\n",
    "    print(i)"
   ]
  },
  {
   "cell_type": "markdown",
   "id": "7ed4732f",
   "metadata": {},
   "source": [
    "### For loops"
   ]
  },
  {
   "cell_type": "code",
   "execution_count": 110,
   "id": "87a9aa9c",
   "metadata": {},
   "outputs": [
    {
     "name": "stdout",
     "output_type": "stream",
     "text": [
      "apple\n",
      "orange\n",
      "cherry\n",
      "banana\n"
     ]
    }
   ],
   "source": [
    "fruits = [\"apple\",\"orange\",\"cherry\",\"banana\"]\n",
    "for i in fruits:\n",
    "    print(i)"
   ]
  },
  {
   "cell_type": "code",
   "execution_count": 111,
   "id": "c04f4a69",
   "metadata": {},
   "outputs": [
    {
     "name": "stdout",
     "output_type": "stream",
     "text": [
      "apple\n",
      "orange\n"
     ]
    }
   ],
   "source": [
    "for i in range(2):\n",
    "    print(fruits[i])"
   ]
  },
  {
   "cell_type": "code",
   "execution_count": 112,
   "id": "2fc2b730",
   "metadata": {},
   "outputs": [
    {
     "name": "stdout",
     "output_type": "stream",
     "text": [
      "Not cherry\n",
      "Not cherry\n",
      "2\n",
      "Not cherry\n"
     ]
    },
    {
     "ename": "IndexError",
     "evalue": "list index out of range",
     "output_type": "error",
     "traceback": [
      "\u001b[1;31m---------------------------------------------------------------------------\u001b[0m",
      "\u001b[1;31mIndexError\u001b[0m                                Traceback (most recent call last)",
      "\u001b[1;32m<ipython-input-112-1550d11cbd5d>\u001b[0m in \u001b[0;36m<module>\u001b[1;34m\u001b[0m\n\u001b[0;32m      1\u001b[0m \u001b[1;32mfor\u001b[0m \u001b[0mi\u001b[0m \u001b[1;32min\u001b[0m \u001b[0mrange\u001b[0m\u001b[1;33m(\u001b[0m\u001b[1;36m10\u001b[0m\u001b[1;33m)\u001b[0m\u001b[1;33m:\u001b[0m\u001b[1;33m\u001b[0m\u001b[1;33m\u001b[0m\u001b[0m\n\u001b[1;32m----> 2\u001b[1;33m     \u001b[1;32mif\u001b[0m \u001b[0mfruits\u001b[0m\u001b[1;33m[\u001b[0m\u001b[0mi\u001b[0m\u001b[1;33m]\u001b[0m \u001b[1;33m==\u001b[0m \u001b[1;34m\"cherry\"\u001b[0m\u001b[1;33m:\u001b[0m\u001b[1;33m\u001b[0m\u001b[1;33m\u001b[0m\u001b[0m\n\u001b[0m\u001b[0;32m      3\u001b[0m         \u001b[0mprint\u001b[0m\u001b[1;33m(\u001b[0m\u001b[0mi\u001b[0m\u001b[1;33m)\u001b[0m \u001b[1;31m#it gives us index of cherry\u001b[0m\u001b[1;33m\u001b[0m\u001b[1;33m\u001b[0m\u001b[0m\n\u001b[0;32m      4\u001b[0m     \u001b[1;32melse\u001b[0m\u001b[1;33m:\u001b[0m\u001b[1;33m\u001b[0m\u001b[1;33m\u001b[0m\u001b[0m\n\u001b[0;32m      5\u001b[0m         \u001b[0mprint\u001b[0m\u001b[1;33m(\u001b[0m\u001b[1;34m\"Not cherry\"\u001b[0m\u001b[1;33m)\u001b[0m\u001b[1;33m\u001b[0m\u001b[1;33m\u001b[0m\u001b[0m\n",
      "\u001b[1;31mIndexError\u001b[0m: list index out of range"
     ]
    }
   ],
   "source": [
    "for i in range(10):\n",
    "    if fruits[i] == \"cherry\":\n",
    "        print(i) #it gives us index of cherry\n",
    "    else:\n",
    "        print(\"Not cherry\")"
   ]
  },
  {
   "cell_type": "markdown",
   "id": "89f0391e",
   "metadata": {},
   "source": [
    "Above code gave a error message that \"list index out of range\" because the fruits list has no 10 items."
   ]
  },
  {
   "cell_type": "code",
   "execution_count": 113,
   "id": "0ea334ce",
   "metadata": {},
   "outputs": [
    {
     "name": "stdout",
     "output_type": "stream",
     "text": [
      "Not cherry\n",
      "Not cherry\n",
      "2\n",
      "Not cherry\n"
     ]
    }
   ],
   "source": [
    "for i in range(len(fruits)):\n",
    "    if fruits[i] == \"cherry\":\n",
    "        print(i) #it gives us index of cherry\n",
    "    else:\n",
    "        print(\"Not cherry\")"
   ]
  },
  {
   "cell_type": "markdown",
   "id": "65e08f4f",
   "metadata": {},
   "source": [
    "### enumerate() function\n",
    "It can be use for find index of elements"
   ]
  },
  {
   "cell_type": "code",
   "execution_count": 114,
   "id": "4839445b",
   "metadata": {},
   "outputs": [
    {
     "name": "stdout",
     "output_type": "stream",
     "text": [
      "apple\n",
      "0\n",
      "orange\n",
      "1\n",
      "cherry\n",
      "2\n",
      "banana\n",
      "3\n"
     ]
    }
   ],
   "source": [
    "for i, fruit in enumerate(fruits):\n",
    "    print(fruit)\n",
    "    print(i)"
   ]
  },
  {
   "cell_type": "markdown",
   "id": "08e75be3",
   "metadata": {},
   "source": [
    "### While Condition"
   ]
  },
  {
   "cell_type": "markdown",
   "id": "433b4872",
   "metadata": {},
   "source": [
    "While only run if the condition met"
   ]
  },
  {
   "cell_type": "code",
   "execution_count": 115,
   "id": "0b43b072",
   "metadata": {},
   "outputs": [
    {
     "name": "stdout",
     "output_type": "stream",
     "text": [
      "0\n",
      "1\n",
      "2\n",
      "3\n",
      "4\n"
     ]
    }
   ],
   "source": [
    "counter = 0\n",
    "while counter < 5:\n",
    "    print(counter)\n",
    "    counter += 1  #it means counter = counter + 1"
   ]
  }
 ],
 "metadata": {
  "kernelspec": {
   "display_name": "Python 3",
   "language": "python",
   "name": "python3"
  },
  "language_info": {
   "codemirror_mode": {
    "name": "ipython",
    "version": 3
   },
   "file_extension": ".py",
   "mimetype": "text/x-python",
   "name": "python",
   "nbconvert_exporter": "python",
   "pygments_lexer": "ipython3",
   "version": "3.8.8"
  }
 },
 "nbformat": 4,
 "nbformat_minor": 5
}
